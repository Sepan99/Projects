{
 "cells": [
  {
   "cell_type": "code",
   "execution_count": 51,
   "id": "9b973272",
   "metadata": {},
   "outputs": [
    {
     "data": {
      "text/plain": [
       "<pyodbc.Cursor at 0x1fb9ac57f30>"
      ]
     },
     "execution_count": 51,
     "metadata": {},
     "output_type": "execute_result"
    }
   ],
   "source": [
    "import pyodbc\n",
    "\n",
    "server = 'MSI'\n",
    "database = 'portfolioproject'\n",
    "connection_string = 'DRIVER={SQL Server};SERVER=' + server + ';DATABASE=' + database\n",
    "connection = pyodbc.connect(connection_string)\n",
    "\n",
    "#creating a table in the database\n",
    "cursor = connection.cursor()\n",
    "cursor.execute(\"CREATE TABLE bmi_data (name VARCHAR(255), age INT, weight FLOAT, height FLOAT, bmi FLOAT, bmi_classification VARCHAR(255))\")\n"
   ]
  },
  {
   "cell_type": "code",
   "execution_count": 52,
   "id": "6e6944e0",
   "metadata": {},
   "outputs": [],
   "source": [
    "def BMI_calculator():\n",
    "    name = str(input(\"Enter your name: \"))\n",
    "    \n",
    "    age = int(input(\"Enter your age: \"))\n",
    "    \n",
    "    weight = float(input(\"Enter your weight in kg: \"))\n",
    "    \n",
    "    height = float(input(\"Enter your height in cm: \"))\n",
    "    \n",
    "    BMI = round((weight) / ((height/100)**2), 2)\n",
    "    \n",
    "    \n",
    "    if BMI < 0:\n",
    "        bmi_classification = \"there's an error in the calculation, please make sure you've entered the values correctly\"\n",
    "    elif BMI < 16:\n",
    "        bmi_classification = \"Severe Thinness\"\n",
    "    elif BMI < 17:\n",
    "        bmi_classification = \"Moderate Thinness\"\n",
    "    elif BMI < 18.5:\n",
    "        bmi_classification = \"Mild Thinness\"\n",
    "    elif BMI < 25:\n",
    "        bmi_classification = \"Normal\"\n",
    "    elif BMI < 30:\n",
    "        bmi_classification = \"Overwight\"\n",
    "    elif BMI < 35:\n",
    "        bmi_classification = \"Obese Class I\"\n",
    "    elif BMI < 40:\n",
    "        bmi_classification = \"Obese Class II\"\n",
    "    elif BMI <100:\n",
    "        bmi_classification = \"Obese Class III\"\n",
    "    else:\n",
    "        bmi_classification = \"There's been an error in the calculation, please make sure you've entered the values correctly\"\n",
    " \n",
    "\n",
    "\n",
    "    sql = \"INSERT INTO bmi_data (name, age, weight, height, bmi, bmi_classification) VALUES (?, ?, ?, ?, ?, ?)\"\n",
    "    val = (name, age, weight, height, BMI, bmi_classification)\n",
    "    cursor.execute(sql, val)\n",
    "\n",
    "    connection.commit()"
   ]
  },
  {
   "cell_type": "code",
   "execution_count": 1,
   "id": "efa7dedb",
   "metadata": {},
   "outputs": [],
   "source": [
    "BMI_calculator()"
   ]
  },
  {
   "cell_type": "code",
   "execution_count": 54,
   "id": "c33f145e",
   "metadata": {},
   "outputs": [],
   "source": [
    "connection.close()"
   ]
  },
  {
   "cell_type": "code",
   "execution_count": null,
   "id": "203f15f8",
   "metadata": {},
   "outputs": [],
   "source": []
  },
  {
   "cell_type": "code",
   "execution_count": null,
   "id": "5464504e",
   "metadata": {},
   "outputs": [],
   "source": []
  }
 ],
 "metadata": {
  "kernelspec": {
   "display_name": "Python 3 (ipykernel)",
   "language": "python",
   "name": "python3"
  },
  "language_info": {
   "codemirror_mode": {
    "name": "ipython",
    "version": 3
   },
   "file_extension": ".py",
   "mimetype": "text/x-python",
   "name": "python",
   "nbconvert_exporter": "python",
   "pygments_lexer": "ipython3",
   "version": "3.9.13"
  }
 },
 "nbformat": 4,
 "nbformat_minor": 5
}
